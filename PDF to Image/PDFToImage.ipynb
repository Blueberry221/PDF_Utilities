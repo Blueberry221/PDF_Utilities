{
 "cells": [
  {
   "cell_type": "markdown",
   "id": "400e56a0",
   "metadata": {},
   "source": [
    "PDF to Image"
   ]
  },
  {
   "cell_type": "code",
   "execution_count": null,
   "id": "4d8e29cc",
   "metadata": {},
   "outputs": [],
   "source": [
    "from pdf2image import convert_from_path\n",
    "import os\n",
    "\n",
    "def convert_pdf_to_images(pdf_path, output_folder):\n",
    "    poppler_path = r\"C:\\poppler-24.08.0\\Library\\bin\"  #Change this to your Poppler path if needed\n",
    "\n",
    "    if not os.path.exists(output_folder):\n",
    "        os.makedirs(output_folder)\n",
    "\n",
    "    pages = convert_from_path(pdf_path, poppler_path=poppler_path)\n",
    "    for i, page in enumerate(pages):\n",
    "        img_path = os.path.join(output_folder, f'page_{i+1}.png')\n",
    "        page.save(img_path, 'PNG')\n",
    "        print(f'Page {i+1} saved as image: {img_path}')\n"
   ]
  },
  {
   "cell_type": "code",
   "execution_count": null,
   "id": "0a390bd4",
   "metadata": {},
   "outputs": [],
   "source": [
    "#PDF to Image\n",
    "convert_pdf_to_images(\"input_path.pdf\", \"./result_images\")"
   ]
  }
 ],
 "metadata": {
  "kernelspec": {
   "display_name": "Python 3",
   "language": "python",
   "name": "python3"
  },
  "language_info": {
   "codemirror_mode": {
    "name": "ipython",
    "version": 3
   },
   "file_extension": ".py",
   "mimetype": "text/x-python",
   "name": "python",
   "nbconvert_exporter": "python",
   "pygments_lexer": "ipython3",
   "version": "3.11.6"
  }
 },
 "nbformat": 4,
 "nbformat_minor": 5
}
