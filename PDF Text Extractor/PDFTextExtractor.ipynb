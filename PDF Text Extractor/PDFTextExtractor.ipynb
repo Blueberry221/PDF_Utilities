{
 "cells": [
  {
   "cell_type": "markdown",
   "id": "0d0ceed3",
   "metadata": {},
   "source": [
    "PDF Text Extractor"
   ]
  },
  {
   "cell_type": "code",
   "execution_count": null,
   "id": "9817d01e",
   "metadata": {},
   "outputs": [],
   "source": [
    "import fitz\n",
    "\n",
    "def extract_text_from_pdf(pdf_path):\n",
    "    doc = fitz.open(pdf_path)\n",
    "    all_text = \"\"\n",
    "    for page in doc:\n",
    "        all_text += page.get_text()\n",
    "    doc.close()\n",
    "    print(\"PDF Successfuly Extracted :\")\n",
    "    print(all_text)\n",
    "    return all_text"
   ]
  },
  {
   "cell_type": "code",
   "execution_count": null,
   "id": "f4dba79f",
   "metadata": {},
   "outputs": [],
   "source": [
    "#PDF Text Extractor\n",
    "extract_text_from_pdf(\"input_path.pdf\")"
   ]
  }
 ],
 "metadata": {
  "kernelspec": {
   "display_name": "Python 3",
   "language": "python",
   "name": "python3"
  },
  "language_info": {
   "codemirror_mode": {
    "name": "ipython",
    "version": 3
   },
   "file_extension": ".py",
   "mimetype": "text/x-python",
   "name": "python",
   "nbconvert_exporter": "python",
   "pygments_lexer": "ipython3",
   "version": "3.11.6"
  }
 },
 "nbformat": 4,
 "nbformat_minor": 5
}
