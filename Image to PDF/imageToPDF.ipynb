{
 "cells": [
  {
   "cell_type": "markdown",
   "id": "0bd06959",
   "metadata": {},
   "source": [
    "Image to PDF\n"
   ]
  },
  {
   "cell_type": "code",
   "execution_count": null,
   "id": "bbbf500a",
   "metadata": {},
   "outputs": [],
   "source": [
    "from PIL import Image\n",
    "\n",
    "def convert_image_to_pdf(image_path, output_pdf):\n",
    "    image = Image.open(image_path)\n",
    "    pdf = image.convert('RGB')\n",
    "    pdf.save(output_pdf)\n",
    "    print(f'Image converted to PDF: {output_pdf}')"
   ]
  },
  {
   "cell_type": "code",
   "execution_count": null,
   "id": "dbbdf185",
   "metadata": {},
   "outputs": [],
   "source": [
    "#Image to PDF\n",
    "convert_image_to_pdf(\"input_path.png\", \"output_path.pdf\")"
   ]
  }
 ],
 "metadata": {
  "kernelspec": {
   "display_name": "Python 3",
   "language": "python",
   "name": "python3"
  },
  "language_info": {
   "codemirror_mode": {
    "name": "ipython",
    "version": 3
   },
   "file_extension": ".py",
   "mimetype": "text/x-python",
   "name": "python",
   "nbconvert_exporter": "python",
   "pygments_lexer": "ipython3",
   "version": "3.11.6"
  }
 },
 "nbformat": 4,
 "nbformat_minor": 5
}
