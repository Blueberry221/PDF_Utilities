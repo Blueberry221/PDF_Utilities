{
 "cells": [
  {
   "cell_type": "code",
   "execution_count": null,
   "id": "8600589e",
   "metadata": {},
   "outputs": [],
   "source": [
    "import subprocess\n",
    "\n",
    "def compress_with_ghostscript(input_path, output_path, quality='ebook'):\n",
    "    ghostscript_path = r\"C:\\Program Files\\gs\\gs10.05.1\\bin\\gswin64c.exe\"  #change this to your Ghostscript path\n",
    "    \n",
    "    try:\n",
    "        cmd = [\n",
    "            ghostscript_path,\n",
    "            \"-sDEVICE=pdfwrite\",\n",
    "            \"-dCompatibilityLevel=1.4\",\n",
    "            f\"-dPDFSETTINGS=/{quality}\",\n",
    "            \"-dNOPAUSE\",\n",
    "            \"-dQUIET\",\n",
    "            \"-dBATCH\",\n",
    "            f\"-sOutputFile={output_path}\",\n",
    "            input_path\n",
    "        ]\n",
    "        subprocess.run(cmd, check=True)\n",
    "        print(f\"Done compressing using Ghostscript → {output_path}\")\n",
    "    except Exception as e:\n",
    "        print(\"Failure on compressing with Ghostscript :\", e)"
   ]
  },
  {
   "cell_type": "code",
   "execution_count": null,
   "id": "22ce8b4d",
   "metadata": {},
   "outputs": [],
   "source": [
    "#PDF Compressor\n",
    "compress_with_ghostscript(\"input_path.pdf\", \"output_path.pdf\",quality='ebook')"
   ]
  }
 ],
 "metadata": {
  "kernelspec": {
   "display_name": "Python 3",
   "language": "python",
   "name": "python3"
  },
  "language_info": {
   "codemirror_mode": {
    "name": "ipython",
    "version": 3
   },
   "file_extension": ".py",
   "mimetype": "text/x-python",
   "name": "python",
   "nbconvert_exporter": "python",
   "pygments_lexer": "ipython3",
   "version": "3.11.6"
  }
 },
 "nbformat": 4,
 "nbformat_minor": 5
}
